{
 "cells": [
  {
   "cell_type": "code",
   "execution_count": 1,
   "id": "ad1bed56-7977-4dcd-8308-58118ed44f5c",
   "metadata": {},
   "outputs": [],
   "source": [
    "import numpy as np\n",
    "import jax\n",
    "import jax.numpy as jnp"
   ]
  },
  {
   "cell_type": "code",
   "execution_count": 2,
   "id": "ee86f414-e9ce-41a3-8fa8-a898465619cb",
   "metadata": {},
   "outputs": [],
   "source": [
    "def calculate_norm_jax(x):\n",
    "    if jax.devices()[0].platform == 'cpu':\n",
    "        return np.array(jnp.linalg.norm(x))\n",
    "    else:\n",
    "        return jnp.linalg.norm(x)"
   ]
  },
  {
   "cell_type": "code",
   "execution_count": 4,
   "id": "ab3b7094-3f37-4274-9a4f-961356421f52",
   "metadata": {},
   "outputs": [],
   "source": [
    "jax.config.update(\"jax_platform_name\", \"cpu\")"
   ]
  },
  {
   "cell_type": "code",
   "execution_count": 5,
   "id": "617bf4f4-acac-4b21-b265-32cd7ef889e7",
   "metadata": {},
   "outputs": [],
   "source": [
    "numpy_array = np.array([1, 2, 3, 4, 5])"
   ]
  },
  {
   "cell_type": "code",
   "execution_count": 6,
   "id": "346dc94f-4b54-467a-94bc-9e71a2784ef0",
   "metadata": {},
   "outputs": [
    {
     "data": {
      "text/plain": [
       "array(7.4161983, dtype=float32)"
      ]
     },
     "execution_count": 6,
     "metadata": {},
     "output_type": "execute_result"
    }
   ],
   "source": [
    "jax_norm_cpu = calculate_norm_jax(numpy_array)\n",
    "jax_norm_cpu"
   ]
  },
  {
   "cell_type": "code",
   "execution_count": 7,
   "id": "d7baaa11-7889-4e3e-b62e-e0433cb2d265",
   "metadata": {},
   "outputs": [],
   "source": [
    "x = [1, 2, 3, 4, 5]\n",
    "xp = jnp.array(x)"
   ]
  },
  {
   "cell_type": "code",
   "execution_count": 9,
   "id": "a29ecfb0-58b6-4f07-b03d-f01a4122dc3a",
   "metadata": {},
   "outputs": [
    {
     "data": {
      "text/plain": [
       "jaxlib.xla_extension.ArrayImpl"
      ]
     },
     "execution_count": 9,
     "metadata": {},
     "output_type": "execute_result"
    }
   ],
   "source": [
    "type(xp)"
   ]
  },
  {
   "cell_type": "code",
   "execution_count": null,
   "id": "eb6d7a05-b117-4f2c-9578-124ad4f2d029",
   "metadata": {},
   "outputs": [],
   "source": []
  }
 ],
 "metadata": {
  "kernelspec": {
   "display_name": "Python 3",
   "language": "python",
   "name": "python3"
  },
  "language_info": {
   "codemirror_mode": {
    "name": "ipython",
    "version": 3
   },
   "file_extension": ".py",
   "mimetype": "text/x-python",
   "name": "python",
   "nbconvert_exporter": "python",
   "pygments_lexer": "ipython3",
   "version": "3.8.10"
  }
 },
 "nbformat": 4,
 "nbformat_minor": 5
}
